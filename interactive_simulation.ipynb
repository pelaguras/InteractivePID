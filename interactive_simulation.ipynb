{
 "cells": [
  {
   "cell_type": "code",
   "execution_count": 17,
   "metadata": {},
   "outputs": [],
   "source": [
    "import matplotlib.pyplot as plt\n",
    "import numpy as np\n",
    "from ipywidgets import interact, FloatSlider, IntSlider"
   ]
  },
  {
   "cell_type": "code",
   "execution_count": 18,
   "metadata": {},
   "outputs": [],
   "source": [
    "class PID:\n",
    "    def __init__(self, kp, ki, kd, setpoint):\n",
    "        self.kp = kp\n",
    "        self.ki = ki\n",
    "        self.kd = kd\n",
    "        self.setpoint = setpoint\n",
    "        self.previous_error = 0\n",
    "        self.integral = 0\n",
    "\n",
    "    def update(self, current_value, dt):\n",
    "        error = self.setpoint - current_value\n",
    "\n",
    "        # Compute different errors\n",
    "        proportional = error\n",
    "        integral = self.integral\n",
    "        derivative = (error - self.previous_error) / dt\n",
    "        \n",
    "        # Store values for next iteration\n",
    "        self.integral += error * dt\n",
    "        self.previous_error = error\n",
    "        \n",
    "\n",
    "        return self.kp * proportional + self.ki * integral + (self.kd / dt) * derivative"
   ]
  },
  {
   "cell_type": "code",
   "execution_count": 19,
   "metadata": {},
   "outputs": [],
   "source": [
    "def simulate_pid(kp, ki, kd, setpoint, initial_value, time, delay, dt):\n",
    "    pid = PID(kp, ki, kd, setpoint)\n",
    "    values = [initial_value]\n",
    "    time_steps = np.arange(0, time, dt)\n",
    "    control_signals = [0] * delay\n",
    "\n",
    "    for _t in time_steps[1:]:\n",
    "        current_value = values[-1]\n",
    "        current_control_signal = pid.update(current_value, dt)\n",
    "        control_signals.pop(0)\n",
    "        control_signals.append(current_control_signal)\n",
    "        \n",
    "        # Simulating a simple, linear system response. Would need to be adjusted for a more complex model\n",
    "        current_value += np.mean(control_signals) * dt\n",
    "        values.append(current_value)\n",
    "\n",
    "    return time_steps, values"
   ]
  },
  {
   "cell_type": "code",
   "execution_count": 20,
   "metadata": {},
   "outputs": [],
   "source": [
    "def interactive_pid(kp, ki, kd, setpoint, initial_value, time, delay):\n",
    "    dt = 0.1\n",
    "    time_steps, values = simulate_pid(\n",
    "        kp, ki, kd, setpoint, initial_value, time, delay, dt)\n",
    "\n",
    "    plt.figure(figsize=(10, 6))\n",
    "    plt.plot(time_steps, values, label=\"System Output\")\n",
    "    plt.axhline(y=setpoint, color='r', linestyle='--', label=\"Setpoint\")\n",
    "    plt.title(\"Interactive PID Controller Simulation\")\n",
    "    plt.xlabel(\"Time (s)\")\n",
    "    plt.ylabel(\"Output\")\n",
    "    plt.legend()\n",
    "    plt.grid()\n",
    "    plt.show()"
   ]
  },
  {
   "cell_type": "code",
   "execution_count": null,
   "metadata": {},
   "outputs": [
    {
     "data": {
      "application/vnd.jupyter.widget-view+json": {
       "model_id": "9612cadb338846288d5f483f93430de3",
       "version_major": 2,
       "version_minor": 0
      },
      "text/plain": [
       "interactive(children=(FloatSlider(value=1.0, description='Kp', max=10.0), FloatSlider(value=0.8, description='…"
      ]
     },
     "metadata": {},
     "output_type": "display_data"
    },
    {
     "data": {
      "text/plain": [
       "<function __main__.interactive_pid(kp, ki, kd, setpoint, initial_value, time, delay)>"
      ]
     },
     "execution_count": 21,
     "metadata": {},
     "output_type": "execute_result"
    }
   ],
   "source": [
    "# Interactive widget setup\n",
    "interact(\n",
    "    interactive_pid,\n",
    "    kp=FloatSlider(value=1.0, min=0.0, max=10.0, step=0.1, description='Kp'),\n",
    "    ki=FloatSlider(value=0.8, min=0.0, max=5.0, step=0.01, description='Ki'),\n",
    "    kd=FloatSlider(value=0.01, min=0.0, max=1.0, step=0.01, description='Kd'),\n",
    "    setpoint=FloatSlider(value=25, min=10, max=30,\n",
    "                         step=1, description='Setpoint'),\n",
    "    initial_value=FloatSlider(value=15, min=0, max=40,\n",
    "                              step=1, description='Initial Value'),\n",
    "    time=IntSlider(value=20, min=1, max=100, step=1, description='Time'),\n",
    "    delay=IntSlider(value=10, min=0, max=100, step=1, description='Delay')\n",
    ")"
   ]
  },
  {
   "cell_type": "code",
   "execution_count": null,
   "metadata": {},
   "outputs": [],
   "source": []
  }
 ],
 "metadata": {
  "kernelspec": {
   "display_name": "venv",
   "language": "python",
   "name": "python3"
  },
  "language_info": {
   "codemirror_mode": {
    "name": "ipython",
    "version": 3
   },
   "file_extension": ".py",
   "mimetype": "text/x-python",
   "name": "python",
   "nbconvert_exporter": "python",
   "pygments_lexer": "ipython3",
   "version": "3.12.3"
  }
 },
 "nbformat": 4,
 "nbformat_minor": 2
}
